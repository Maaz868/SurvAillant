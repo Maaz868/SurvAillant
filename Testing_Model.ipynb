{
  "nbformat": 4,
  "nbformat_minor": 0,
  "metadata": {
    "colab": {
      "provenance": [],
      "gpuType": "T4",
      "authorship_tag": "ABX9TyOjRZCfw4+ZdQOmya9reeJ8",
      "include_colab_link": true
    },
    "kernelspec": {
      "name": "python3",
      "display_name": "Python 3"
    },
    "language_info": {
      "name": "python"
    },
    "accelerator": "GPU"
  },
  "cells": [
    {
      "cell_type": "markdown",
      "metadata": {
        "id": "view-in-github",
        "colab_type": "text"
      },
      "source": [
        "<a href=\"https://colab.research.google.com/github/Maaz868/SurvAillant/blob/main/Testing_Model.ipynb\" target=\"_parent\"><img src=\"https://colab.research.google.com/assets/colab-badge.svg\" alt=\"Open In Colab\"/></a>"
      ]
    },
    {
      "cell_type": "code",
      "execution_count": 46,
      "metadata": {
        "id": "7R_nEi9odIEq"
      },
      "outputs": [],
      "source": [
        "import pandas as pd\n",
        "import numpy as np\n",
        "from sklearn.model_selection import train_test_split\n",
        "from sklearn.preprocessing import StandardScaler\n",
        "from sklearn.metrics import confusion_matrix, classification_report\n",
        "from keras.models import Sequential\n",
        "from keras.layers import Dense\n",
        "import matplotlib.pyplot as plt\n",
        "import tensorflow as tf"
      ]
    },
    {
      "cell_type": "code",
      "source": [
        "# Load the dataset from CSV file\n",
        "df = pd.read_csv('outputDos.csv')\n",
        "\n",
        "# Select features of interest\n",
        "selected_features = ['protocol', 'timestamp', 'payload_size', 'src_ip']\n",
        "\n",
        "# Extract the features\n",
        "selected_data = df[selected_features]\n",
        "\n",
        "# Convert 'timestamp' to a numeric value (e.g., seconds since epoch)\n",
        "selected_data['timestamp'] = pd.to_datetime(selected_data['timestamp']).astype(int) / 10**9  # Convert to seconds\n",
        "\n",
        "# Convert categorical features to numerical using one-hot encoding\n",
        "selected_data = pd.get_dummies(selected_data, columns=['protocol'])\n",
        "\n",
        "# Separate non-numeric columns\n",
        "non_numeric_cols = ['src_ip']\n",
        "numeric_data = selected_data.drop(non_numeric_cols, axis=1)\n",
        "\n",
        "# Standardize the numeric features\n",
        "scaler = StandardScaler()\n",
        "numeric_data_scaled = scaler.fit_transform(numeric_data)\n",
        "numeric_data_scaled_df = pd.DataFrame(numeric_data_scaled, columns=numeric_data.columns)  # Convert to DataFrame\n",
        "\n",
        "# Combine scaled numeric features with non-numeric features\n",
        "selected_data_scaled = pd.concat([numeric_data_scaled_df, selected_data[non_numeric_cols]], axis=1)\n",
        "\n",
        "# Split the dataset into training, validation, and test sets\n",
        "X_train, X_temp = train_test_split(selected_data_scaled, test_size=0.4, random_state=42)\n",
        "X_val, X_test = train_test_split(X_temp, test_size=0.5, random_state=42)\n"
      ],
      "metadata": {
        "colab": {
          "base_uri": "https://localhost:8080/"
        },
        "id": "SEp38ADGdPYY",
        "outputId": "13b26b45-b4c9-468f-a6e8-94365dda4ce3"
      },
      "execution_count": 47,
      "outputs": [
        {
          "output_type": "stream",
          "name": "stderr",
          "text": [
            "<ipython-input-47-e7b68a0f383e>:11: SettingWithCopyWarning: \n",
            "A value is trying to be set on a copy of a slice from a DataFrame.\n",
            "Try using .loc[row_indexer,col_indexer] = value instead\n",
            "\n",
            "See the caveats in the documentation: https://pandas.pydata.org/pandas-docs/stable/user_guide/indexing.html#returning-a-view-versus-a-copy\n",
            "  selected_data['timestamp'] = pd.to_datetime(selected_data['timestamp']).astype(int) / 10**9  # Convert to seconds\n"
          ]
        }
      ]
    },
    {
      "cell_type": "code",
      "source": [
        "# Convert DataFrames to NumPy arrays\n",
        "X_train_numeric = X_train.drop(['src_ip'], axis=1).to_numpy()\n",
        "X_val_numeric = X_val.drop(['src_ip'], axis=1).to_numpy()\n",
        "X_test_numeric = X_test.drop(['src_ip'], axis=1).to_numpy()\n",
        "\n",
        "# Convert NumPy arrays to TensorFlow tensors\n",
        "X_train_tensor = tf.convert_to_tensor(X_train_numeric, dtype=tf.float32)\n",
        "X_val_tensor = tf.convert_to_tensor(X_val_numeric, dtype=tf.float32)\n",
        "X_test_tensor = tf.convert_to_tensor(X_test_numeric, dtype=tf.float32)\n",
        "\n",
        "# Build an autoencoder model\n",
        "model = Sequential([\n",
        "    Dense(32, activation='relu', input_shape=(X_train_tensor.shape[1],)),\n",
        "    Dense(16, activation='relu'),\n",
        "    Dense(8, activation='relu'),\n",
        "    Dense(16, activation='relu'),\n",
        "    Dense(32, activation='relu'),\n",
        "    Dense(X_train_tensor.shape[1], activation='linear')\n",
        "])"
      ],
      "metadata": {
        "id": "pqCaxWNLdUSs"
      },
      "execution_count": 48,
      "outputs": []
    },
    {
      "cell_type": "code",
      "source": [
        "model.compile(optimizer='adam', loss='mean_squared_error')"
      ],
      "metadata": {
        "id": "aS1zQTOKdY4M"
      },
      "execution_count": 58,
      "outputs": []
    },
    {
      "cell_type": "code",
      "source": [
        "# Train the model\n",
        "# history = model.fit(X_train_tensor, X_train_tensor, epochs=50, batch_size=32)\n",
        "history = model.fit(X_train_tensor, X_train_tensor, epochs=50, batch_size=32, validation_data=(X_val_tensor, X_val_tensor))\n",
        "\n",
        "# Plot training and validation loss\n",
        "plt.plot(history.history['loss'], label='Training Loss')\n",
        "plt.plot(history.history['val_loss'], label='Validation Loss')\n",
        "plt.xlabel('Epochs')\n",
        "plt.ylabel('Loss')\n",
        "plt.legend()\n",
        "plt.show()\n"
      ],
      "metadata": {
        "colab": {
          "base_uri": "https://localhost:8080/",
          "height": 675
        },
        "id": "5LGF-QKSdcPS",
        "outputId": "6f7d7296-7160-48a0-97bb-e308771b2e74"
      },
      "execution_count": 60,
      "outputs": [
        {
          "output_type": "stream",
          "name": "stdout",
          "text": [
            "827/827 [==============================] - 3s 4ms/step - loss: 9.9976e-05\n"
          ]
        },
        {
          "output_type": "error",
          "ename": "KeyError",
          "evalue": "ignored",
          "traceback": [
            "\u001b[0;31m---------------------------------------------------------------------------\u001b[0m",
            "\u001b[0;31mKeyError\u001b[0m                                  Traceback (most recent call last)",
            "\u001b[0;32m<ipython-input-60-9c8dc7586fab>\u001b[0m in \u001b[0;36m<cell line: 6>\u001b[0;34m()\u001b[0m\n\u001b[1;32m      4\u001b[0m \u001b[0;31m# Plot training and validation loss\u001b[0m\u001b[0;34m\u001b[0m\u001b[0;34m\u001b[0m\u001b[0m\n\u001b[1;32m      5\u001b[0m \u001b[0mplt\u001b[0m\u001b[0;34m.\u001b[0m\u001b[0mplot\u001b[0m\u001b[0;34m(\u001b[0m\u001b[0mhistory\u001b[0m\u001b[0;34m.\u001b[0m\u001b[0mhistory\u001b[0m\u001b[0;34m[\u001b[0m\u001b[0;34m'loss'\u001b[0m\u001b[0;34m]\u001b[0m\u001b[0;34m,\u001b[0m \u001b[0mlabel\u001b[0m\u001b[0;34m=\u001b[0m\u001b[0;34m'Training Loss'\u001b[0m\u001b[0;34m)\u001b[0m\u001b[0;34m\u001b[0m\u001b[0;34m\u001b[0m\u001b[0m\n\u001b[0;32m----> 6\u001b[0;31m \u001b[0mplt\u001b[0m\u001b[0;34m.\u001b[0m\u001b[0mplot\u001b[0m\u001b[0;34m(\u001b[0m\u001b[0mhistory\u001b[0m\u001b[0;34m.\u001b[0m\u001b[0mhistory\u001b[0m\u001b[0;34m[\u001b[0m\u001b[0;34m'val_loss'\u001b[0m\u001b[0;34m]\u001b[0m\u001b[0;34m,\u001b[0m \u001b[0mlabel\u001b[0m\u001b[0;34m=\u001b[0m\u001b[0;34m'Validation Loss'\u001b[0m\u001b[0;34m)\u001b[0m\u001b[0;34m\u001b[0m\u001b[0;34m\u001b[0m\u001b[0m\n\u001b[0m\u001b[1;32m      7\u001b[0m \u001b[0mplt\u001b[0m\u001b[0;34m.\u001b[0m\u001b[0mxlabel\u001b[0m\u001b[0;34m(\u001b[0m\u001b[0;34m'Epochs'\u001b[0m\u001b[0;34m)\u001b[0m\u001b[0;34m\u001b[0m\u001b[0;34m\u001b[0m\u001b[0m\n\u001b[1;32m      8\u001b[0m \u001b[0mplt\u001b[0m\u001b[0;34m.\u001b[0m\u001b[0mylabel\u001b[0m\u001b[0;34m(\u001b[0m\u001b[0;34m'Loss'\u001b[0m\u001b[0;34m)\u001b[0m\u001b[0;34m\u001b[0m\u001b[0;34m\u001b[0m\u001b[0m\n",
            "\u001b[0;31mKeyError\u001b[0m: 'val_loss'"
          ]
        },
        {
          "output_type": "display_data",
          "data": {
            "text/plain": [
              "<Figure size 640x480 with 1 Axes>"
            ],
            "image/png": "[encoded data removed]"
          },
          "metadata": {}
        }
      ]
    },
    {
      "cell_type": "code",
      "source": [
        "# Inference on the test set\n",
        "X_test_pred = model.predict(X_test_tensor)"
      ],
      "metadata": {
        "colab": {
          "base_uri": "https://localhost:8080/"
        },
        "id": "qeZ3VFiQdjWf",
        "outputId": "902bc558-3b45-44c1-fe20-0e50856e695c"
      },
      "execution_count": 51,
      "outputs": [
        {
          "output_type": "stream",
          "name": "stdout",
          "text": [
            "276/276 [==============================] - 1s 2ms/step\n"
          ]
        }
      ]
    },
    {
      "cell_type": "code",
      "source": [
        "# Check the shapes of X_test and X_test_pred\n",
        "# if X_test.shape[1] != X_test_pred.shape[1]:\n",
        "#     raise ValueError(\"Mismatch in the number of features between X_test and X_test_pred\")\n",
        "if X_test.drop(['src_ip'], axis=1).shape[1] != X_test_pred.shape[1]:\n",
        "    raise ValueError(\"Mismatch in the number of features between X_test and X_test_pred\")\n",
        "\n",
        "# Evaluate on test set\n",
        "mse = ((X_test_numeric - X_test_pred) ** 2).mean(axis=1)  # Mean Squared Error for each sample\n",
        "threshold = mse.mean() + 2 * mse.std()  # Set a threshold for anomaly detection\n"
      ],
      "metadata": {
        "id": "Zmk6ReeVdluU"
      },
      "execution_count": 52,
      "outputs": []
    },
    {
      "cell_type": "code",
      "source": [
        "# Reconstruction accuracy for training, validation, and testing sets\n",
        "train_acc = (1 - history.history['loss'][-1]) * 100\n",
        "val_acc = (1 - history.history['val_loss'][-1]) * 100\n",
        "test_acc = (np.sum(mse <= threshold) / len(mse)) * 100\n",
        "\n",
        "# Display accuracies\n",
        "print(f\"Training Accuracy: {train_acc:.2f}\")\n",
        "print(f\"Validation Accuracy: {val_acc:.2f}\")\n",
        "print(f\"Testing Accuracy: {test_acc:.2f}\")"
      ],
      "metadata": {
        "colab": {
          "base_uri": "https://localhost:8080/"
        },
        "id": "XVaZcO9NorRV",
        "outputId": "50c38d7f-6b9e-4e8d-8a64-b34aeae42539"
      },
      "execution_count": 54,
      "outputs": [
        {
          "output_type": "stream",
          "name": "stdout",
          "text": [
            "Training Accuracy: 99.96%\n",
            "Validation Accuracy: 100.00%\n",
            "Testing Accuracy: 99.70%\n"
          ]
        }
      ]
    }
  ]
}